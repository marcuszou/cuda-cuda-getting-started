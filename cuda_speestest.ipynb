{
 "cells": [
  {
   "cell_type": "markdown",
   "id": "3f2b7732-bbe7-4f26-a9a0-20620136f87f",
   "metadata": {},
   "source": [
    "# CUDA Speedtest"
   ]
  },
  {
   "cell_type": "markdown",
   "id": "633248cc-8487-406d-96a2-bf7d8b1c93c0",
   "metadata": {},
   "source": [
    "## Test how many GPUs do I have in my system?"
   ]
  },
  {
   "cell_type": "code",
   "execution_count": 1,
   "id": "1c5cb277-c5c0-4785-bc05-7f9fc0e0bb27",
   "metadata": {},
   "outputs": [
    {
     "name": "stdout",
     "output_type": "stream",
     "text": [
      "GPU 0: Quadro P5000 (UUID: GPU-ac9a58dd-3d05-83ca-fb16-1cceb7fc99b1)\n",
      "GPU 1: Quadro P5000 (UUID: GPU-3ff5541e-a6ac-635d-d76a-e5aed307fca7)\n"
     ]
    }
   ],
   "source": [
    "!nvidia-smi --list-gpus"
   ]
  },
  {
   "cell_type": "markdown",
   "id": "61212d3a-869f-40a2-8e73-7a905553c1c5",
   "metadata": {},
   "source": [
    "## Verify if CUDA is available"
   ]
  },
  {
   "cell_type": "code",
   "execution_count": 2,
   "id": "0b46c1fd-52ff-48dd-b2dc-5a4e581e25f9",
   "metadata": {},
   "outputs": [
    {
     "name": "stdout",
     "output_type": "stream",
     "text": [
      "using cuda device\n"
     ]
    }
   ],
   "source": [
    "import torch    \n",
    "if torch.cuda.is_available():\n",
    "    device = torch.device(\"cuda\")\n",
    "else:\n",
    "    device = torch.device(\"cpu\")\n",
    "print(\"using\", device, \"device\")"
   ]
  },
  {
   "cell_type": "markdown",
   "id": "ee6fff6c-0f16-465c-88ee-9260ba9b0e39",
   "metadata": {},
   "source": [
    "## Speedtest GPU:0"
   ]
  },
  {
   "cell_type": "code",
   "execution_count": 3,
   "id": "509862b3-bbb9-4df1-92d9-f47a6d405f0a",
   "metadata": {},
   "outputs": [
    {
     "name": "stdout",
     "output_type": "stream",
     "text": [
      "********** CPU SPEED **********\n",
      "12.970300436019897\n",
      "verify devie: cpu\n",
      "********** GPU SPEED **********\n",
      "2.313671827316284\n",
      "verify devie: cuda:0\n",
      "********** GPU SPEED **********\n",
      "3.7261524200439453\n",
      "verify devie: cuda:0\n",
      "********** GPU SPEED **********\n",
      "1.1768579483032227\n",
      "verify devie: cuda:0\n"
     ]
    }
   ],
   "source": [
    "import time, torch\n",
    "\n",
    "matrix_size = 32*512\n",
    "\n",
    "x = torch.randn(matrix_size, matrix_size)\n",
    "y = torch.randn(matrix_size, matrix_size)\n",
    "\n",
    "if torch.cuda.is_available():\n",
    "    device = torch.device(\"cuda:0\")\n",
    "else:\n",
    "    device = torch.device(\"cpu\")\n",
    "\n",
    "print(\"********** CPU SPEED **********\")\n",
    "start = time.time()\n",
    "result = torch.matmul(x, y)\n",
    "print(time.time() - start)\n",
    "print(\"verify devie:\", result.device)\n",
    "\n",
    "x_gpu = x.to(device)\n",
    "y_gpu = y.to(device)\n",
    "torch.cuda.synchronize()\n",
    "\n",
    "for i in range(3):\n",
    "    print(\"********** GPU SPEED **********\")\n",
    "    start = time.time()\n",
    "    result_gpu = torch.matmul(x_gpu, y_gpu)\n",
    "    torch.cuda.synchronize()\n",
    "    print(time.time() - start)\n",
    "    print(\"verify devie:\", result_gpu.device)"
   ]
  },
  {
   "cell_type": "markdown",
   "id": "d842954f-207c-488b-8227-0c3f58dc5270",
   "metadata": {},
   "source": [
    "## Speedtest GPU:1"
   ]
  },
  {
   "cell_type": "code",
   "execution_count": 4,
   "id": "8f9d2c2b-8282-4f0d-b1d0-f37c8d7f5cac",
   "metadata": {},
   "outputs": [
    {
     "name": "stdout",
     "output_type": "stream",
     "text": [
      "********** CPU SPEED **********\n",
      "12.353505611419678\n",
      "verify devie: cpu\n",
      "********** GPU SPEED **********\n",
      "0.07596063613891602\n",
      "verify devie: cuda:1\n",
      "********** GPU SPEED **********\n",
      "0.012387514114379883\n",
      "verify devie: cuda:1\n",
      "********** GPU SPEED **********\n",
      "9.870529174804688e-05\n",
      "verify devie: cuda:1\n"
     ]
    }
   ],
   "source": [
    "import time, torch\n",
    "\n",
    "matrix_size = 32*512\n",
    "\n",
    "x = torch.randn(matrix_size, matrix_size)\n",
    "y = torch.randn(matrix_size, matrix_size)\n",
    "\n",
    "if torch.cuda.is_available():\n",
    "    device = torch.device(\"cuda:1\")\n",
    "else:\n",
    "    device = torch.device(\"cpu\")\n",
    "\n",
    "print(\"********** CPU SPEED **********\")\n",
    "start = time.time()\n",
    "result = torch.matmul(x, y)\n",
    "print(time.time() - start)\n",
    "print(\"verify devie:\", result.device)\n",
    "\n",
    "x_gpu = x.to(device)\n",
    "y_gpu = y.to(device)\n",
    "torch.cuda.synchronize()\n",
    "\n",
    "for i in range(3):\n",
    "    print(\"********** GPU SPEED **********\")\n",
    "    start = time.time()\n",
    "    result_gpu = torch.matmul(x_gpu, y_gpu)\n",
    "    torch.cuda.synchronize()\n",
    "    print(time.time() - start)\n",
    "    print(\"verify devie:\", result_gpu.device)"
   ]
  }
 ],
 "metadata": {
  "kernelspec": {
   "display_name": "Python 3 (ipykernel)",
   "language": "python",
   "name": "python3"
  },
  "language_info": {
   "codemirror_mode": {
    "name": "ipython",
    "version": 3
   },
   "file_extension": ".py",
   "mimetype": "text/x-python",
   "name": "python",
   "nbconvert_exporter": "python",
   "pygments_lexer": "ipython3",
   "version": "3.12.3"
  }
 },
 "nbformat": 4,
 "nbformat_minor": 5
}
